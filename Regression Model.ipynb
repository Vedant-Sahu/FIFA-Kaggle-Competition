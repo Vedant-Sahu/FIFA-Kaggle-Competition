{
 "cells": [
  {
   "cell_type": "code",
   "execution_count": 1,
   "metadata": {},
   "outputs": [
    {
     "name": "stderr",
     "output_type": "stream",
     "text": [
      "C:\\Users\\vedan\\Anaconda3\\lib\\site-packages\\h5py\\__init__.py:36: FutureWarning: Conversion of the second argument of issubdtype from `float` to `np.floating` is deprecated. In future, it will be treated as `np.float64 == np.dtype(float).type`.\n",
      "  from ._conv import register_converters as _register_converters\n"
     ]
    }
   ],
   "source": [
    "import numpy as np\n",
    "import matplotlib.pyplot as plt\n",
    "import tensorflow as tf\n",
    "import sklearn"
    "import pandas as pd"
   ]
  },
  {
   "cell_type": "code",
   "execution_count": 3,
   "metadata": {},
   "outputs": [],
   "source": [
    "df = pd.read_csv('FIFATrainModel.csv')"
   ]
  },
  {
   "cell_type": "code",
   "execution_count": 4,
   "metadata": {},
   "outputs": [],
   "source": [
    "y = df['WageNew']"
   ]
  },
  {
   "cell_type": "code",
   "execution_count": 5,
   "metadata": {},
   "outputs": [],
   "source": [
    "arr = ['Ob','WageNew']\n",
    "\n",
    "for i in range(len(arr)):\n",
    "    del df[arr[i]]"
   ]
  },
  {
   "cell_type": "code",
   "execution_count": 8,
   "metadata": {},
   "outputs": [],
   "source": [
    "x = df.values\n",
    "y = y.values"
   ]
  },
  {
   "cell_type": "code",
   "execution_count": 9,
   "metadata": {},
   "outputs": [
    {
     "data": {
      "text/plain": [
       "numpy.ndarray"
      ]
     },
     "execution_count": 9,
     "metadata": {},
     "output_type": "execute_result"
    }
   ],
   "source": [
    "type(x)"
   ]
  },
  {
   "cell_type": "code",
   "execution_count": 52,
   "metadata": {
    "scrolled": true
   },
   "outputs": [
    {
     "name": "stderr",
     "output_type": "stream",
     "text": [
      "C:\\Users\\vedan\\Anaconda3\\lib\\site-packages\\ipykernel_launcher.py:1: FutureWarning: Method .as_matrix will be removed in a future version. Use .values instead.\n",
      "  \"\"\"Entry point for launching an IPython kernel.\n",
      "C:\\Users\\vedan\\Anaconda3\\lib\\site-packages\\ipykernel_launcher.py:2: FutureWarning: Method .as_matrix will be removed in a future version. Use .values instead.\n",
      "  \n"
     ]
    }
   ],
   "source": [
    "x = df.as_matrix()\n",
    "y = y.as_matrix()"
   ]
  },
  {
   "cell_type": "code",
   "execution_count": 53,
   "metadata": {},
   "outputs": [],
   "source": [
    "x_NaNs = np.isnan(x)\n",
    "x[x_NaNs] = 0\n",
    "\n",
    "y_NaNs = np.isnan(y)\n",
    "y[y_NaNs] = 0"
   ]
  },
  {
   "cell_type": "code",
   "execution_count": 54,
   "metadata": {},
   "outputs": [],
   "source": [
    "from sklearn.model_selection import train_test_split\n",
    "x_train, x_test, y_train, y_test = train_test_split(x,y,test_size=0.2,random_state=32)"
   ]
  },
  {
   "cell_type": "code",
   "execution_count": 55,
   "metadata": {},
   "outputs": [
    {
     "data": {
      "text/plain": [
       "15"
      ]
     },
     "execution_count": 55,
     "metadata": {},
     "output_type": "execute_result"
    }
   ],
   "source": [
    "x_train.shape[1]"
   ]
  },
  {
   "cell_type": "code",
   "execution_count": 56,
   "metadata": {},
   "outputs": [],
   "source": [
    "x_train = tf.keras.utils.normalize(x_train, axis=1)\n",
    "x_test = tf.keras.utils.normalize(x_test, axis=1)"
   ]
  },
  {
   "cell_type": "code",
   "execution_count": 57,
   "metadata": {},
   "outputs": [],
   "source": [
    "model = tf.keras.models.Sequential()\n",
    "model.add(tf.keras.layers.Dense(256, kernel_initializer='normal', input_dim = x_train.shape[1], activation='relu'))\n",
    "model.add(tf.keras.layers.Dense(256, kernel_initializer='normal', activation='relu'))\n",
    "model.add(tf.keras.layers.Dense(256, kernel_initializer='normal', activation='relu'))\n",
    "model.add(tf.keras.layers.Dense(1, kernel_initializer='normal', activation='linear'))"
   ]
  },
  {
   "cell_type": "code",
   "execution_count": 58,
   "metadata": {},
   "outputs": [],
   "source": [
    "model.compile(loss='mean_absolute_error', optimizer='adam', metrics=['mean_squared_error'])"
   ]
  },
  {
   "cell_type": "code",
   "execution_count": 59,
   "metadata": {},
   "outputs": [
    {
     "name": "stdout",
     "output_type": "stream",
     "text": [
      "Epoch 1/100\n",
      "10196/10196 [==============================] - 2s 233us/step - loss: 8628.2927 - mean_squared_error: 602436756.6568\n",
      "Epoch 2/100\n",
      "10196/10196 [==============================] - 2s 164us/step - loss: 8013.9615 - mean_squared_error: 527549628.4122\n",
      "Epoch 3/100\n",
      "10196/10196 [==============================] - 2s 163us/step - loss: 7354.1301 - mean_squared_error: 426123485.5613\n",
      "Epoch 4/100\n",
      "10196/10196 [==============================] - 2s 174us/step - loss: 6574.8366 - mean_squared_error: 302406758.7263\n",
      "Epoch 5/100\n",
      "10196/10196 [==============================] - 2s 170us/step - loss: 5942.1222 - mean_squared_error: 207801188.0900\n",
      "Epoch 6/100\n",
      "10196/10196 [==============================] - 2s 177us/step - loss: 5677.3760 - mean_squared_error: 174397399.5049 0s - loss: 5621.4292 - mean_squared_error: 17\n",
      "Epoch 7/100\n",
      "10196/10196 [==============================] - 2s 173us/step - loss: 5517.1877 - mean_squared_error: 160963030.6434\n",
      "Epoch 8/100\n",
      "10196/10196 [==============================] - 2s 164us/step - loss: 5417.9418 - mean_squared_error: 160957022.4055\n",
      "Epoch 9/100\n",
      "10196/10196 [==============================] - 2s 149us/step - loss: 5361.1021 - mean_squared_error: 158369358.7180\n",
      "Epoch 10/100\n",
      "10196/10196 [==============================] - 2s 161us/step - loss: 5307.3919 - mean_squared_error: 156876816.8857\n",
      "Epoch 11/100\n",
      "10196/10196 [==============================] - 2s 156us/step - loss: 5262.0684 - mean_squared_error: 154708253.6090\n",
      "Epoch 12/100\n",
      "10196/10196 [==============================] - 2s 155us/step - loss: 5242.2640 - mean_squared_error: 152295719.8457\n",
      "Epoch 13/100\n",
      "10196/10196 [==============================] - 2s 167us/step - loss: 5204.8268 - mean_squared_error: 152299284.0786\n",
      "Epoch 14/100\n",
      "10196/10196 [==============================] - 2s 179us/step - loss: 5186.2554 - mean_squared_error: 150308255.4926\n",
      "Epoch 15/100\n",
      "10196/10196 [==============================] - 2s 173us/step - loss: 5135.1916 - mean_squared_error: 148332377.7187\n",
      "Epoch 16/100\n",
      "10196/10196 [==============================] - 2s 171us/step - loss: 5115.4470 - mean_squared_error: 147955623.7937\n",
      "Epoch 17/100\n",
      "10196/10196 [==============================] - 2s 175us/step - loss: 5077.6606 - mean_squared_error: 146181678.5673\n",
      "Epoch 18/100\n",
      "10196/10196 [==============================] - 2s 194us/step - loss: 5051.1067 - mean_squared_error: 143758211.9762\n",
      "Epoch 19/100\n",
      "10196/10196 [==============================] - 2s 169us/step - loss: 5017.2750 - mean_squared_error: 144126832.1035\n",
      "Epoch 20/100\n",
      "10196/10196 [==============================] - 2s 170us/step - loss: 5030.0003 - mean_squared_error: 142840514.9189 1s - loss: 4571.4032 - mean_squa\n",
      "Epoch 21/100\n",
      "10196/10196 [==============================] - 2s 186us/step - loss: 4982.4244 - mean_squared_error: 140848565.3087\n",
      "Epoch 22/100\n",
      "10196/10196 [==============================] - 2s 185us/step - loss: 4976.5714 - mean_squared_error: 139247976.5665\n",
      "Epoch 23/100\n",
      "10196/10196 [==============================] - 2s 167us/step - loss: 4936.4922 - mean_squared_error: 138168505.3333\n",
      "Epoch 24/100\n",
      "10196/10196 [==============================] - 2s 162us/step - loss: 4926.6826 - mean_squared_error: 137248274.1123\n",
      "Epoch 25/100\n",
      "10196/10196 [==============================] - 2s 158us/step - loss: 4901.0551 - mean_squared_error: 136461601.9884\n",
      "Epoch 26/100\n",
      "10196/10196 [==============================] - 2s 162us/step - loss: 4886.0514 - mean_squared_error: 136462923.3542\n",
      "Epoch 27/100\n",
      "10196/10196 [==============================] - 2s 158us/step - loss: 4868.2360 - mean_squared_error: 135761174.8780\n",
      "Epoch 28/100\n",
      "10196/10196 [==============================] - 2s 163us/step - loss: 4859.2080 - mean_squared_error: 132899879.2973\n",
      "Epoch 29/100\n",
      "10196/10196 [==============================] - 2s 157us/step - loss: 4838.4335 - mean_squared_error: 133286990.9883\n",
      "Epoch 30/100\n",
      "10196/10196 [==============================] - 2s 160us/step - loss: 4804.4008 - mean_squared_error: 131098686.6617\n",
      "Epoch 31/100\n",
      "10196/10196 [==============================] - 2s 174us/step - loss: 4814.2564 - mean_squared_error: 131136615.4653\n",
      "Epoch 32/100\n",
      "10196/10196 [==============================] - 2s 174us/step - loss: 4787.9269 - mean_squared_error: 129984767.2919\n",
      "Epoch 33/100\n",
      "10196/10196 [==============================] - 2s 153us/step - loss: 4782.7623 - mean_squared_error: 129900721.4698\n",
      "Epoch 34/100\n",
      "10196/10196 [==============================] - 2s 156us/step - loss: 4783.3137 - mean_squared_error: 127851330.2273\n",
      "Epoch 35/100\n",
      "10196/10196 [==============================] - 2s 149us/step - loss: 4768.7118 - mean_squared_error: 127637409.5471\n",
      "Epoch 36/100\n",
      "10196/10196 [==============================] - 2s 150us/step - loss: 4763.9699 - mean_squared_error: 126308101.1057\n",
      "Epoch 37/100\n",
      "10196/10196 [==============================] - 2s 152us/step - loss: 4750.7511 - mean_squared_error: 125435792.2940\n",
      "Epoch 38/100\n",
      "10196/10196 [==============================] - 2s 151us/step - loss: 4717.1988 - mean_squared_error: 125047842.5434\n",
      "Epoch 39/100\n",
      "10196/10196 [==============================] - 2s 150us/step - loss: 4696.4882 - mean_squared_error: 123811652.1100\n",
      "Epoch 40/100\n",
      "10196/10196 [==============================] - 2s 149us/step - loss: 4703.8513 - mean_squared_error: 122912131.6913\n",
      "Epoch 41/100\n",
      "10196/10196 [==============================] - 2s 149us/step - loss: 4667.4477 - mean_squared_error: 122077771.0503\n",
      "Epoch 42/100\n",
      "10196/10196 [==============================] - 2s 153us/step - loss: 4681.9951 - mean_squared_error: 121678827.3920\n",
      "Epoch 43/100\n",
      "10196/10196 [==============================] - 2s 159us/step - loss: 4659.7602 - mean_squared_error: 120439360.9612\n",
      "Epoch 44/100\n",
      "10196/10196 [==============================] - 2s 156us/step - loss: 4642.3129 - mean_squared_error: 119277773.2244\n",
      "Epoch 45/100\n",
      "10196/10196 [==============================] - 2s 157us/step - loss: 4644.7751 - mean_squared_error: 119314767.7168\n",
      "Epoch 46/100\n",
      "10196/10196 [==============================] - 2s 153us/step - loss: 4622.9565 - mean_squared_error: 117851750.9256\n",
      "Epoch 47/100\n",
      "10196/10196 [==============================] - 2s 154us/step - loss: 4622.6605 - mean_squared_error: 118484223.5194\n",
      "Epoch 48/100\n",
      "10196/10196 [==============================] - 2s 155us/step - loss: 4604.3574 - mean_squared_error: 115915903.8883\n",
      "Epoch 49/100\n",
      "10196/10196 [==============================] - 2s 152us/step - loss: 4609.4404 - mean_squared_error: 116723104.1421\n",
      "Epoch 50/100\n",
      "10196/10196 [==============================] - 2s 152us/step - loss: 4597.5157 - mean_squared_error: 115287436.9346\n",
      "Epoch 51/100\n",
      "10196/10196 [==============================] - 2s 151us/step - loss: 4585.5264 - mean_squared_error: 114530391.9292\n",
      "Epoch 52/100\n",
      "10196/10196 [==============================] - 2s 153us/step - loss: 4594.2773 - mean_squared_error: 114198203.8176\n",
      "Epoch 53/100\n",
      "10196/10196 [==============================] - 2s 155us/step - loss: 4557.4801 - mean_squared_error: 114399360.9731\n",
      "Epoch 54/100\n",
      "10196/10196 [==============================] - 2s 150us/step - loss: 4544.0277 - mean_squared_error: 112546363.6951\n",
      "Epoch 55/100\n",
      "10196/10196 [==============================] - 2s 162us/step - loss: 4529.3923 - mean_squared_error: 112645691.6278\n",
      "Epoch 56/100\n",
      "10196/10196 [==============================] - 2s 157us/step - loss: 4513.2090 - mean_squared_error: 110909417.7692\n",
      "Epoch 57/100\n",
      "10196/10196 [==============================] - 2s 151us/step - loss: 4535.9145 - mean_squared_error: 111037142.3246\n",
      "Epoch 58/100\n",
      "10196/10196 [==============================] - 2s 153us/step - loss: 4541.4948 - mean_squared_error: 110620122.4884\n",
      "Epoch 59/100\n",
      "10196/10196 [==============================] - 2s 168us/step - loss: 4494.3776 - mean_squared_error: 108660774.4201\n",
      "Epoch 60/100\n",
      "10196/10196 [==============================] - 2s 150us/step - loss: 4494.0085 - mean_squared_error: 109632898.9812\n",
      "Epoch 61/100\n",
      "10196/10196 [==============================] - 2s 149us/step - loss: 4491.9927 - mean_squared_error: 108027194.5781\n",
      "Epoch 62/100\n",
      "10196/10196 [==============================] - 2s 162us/step - loss: 4463.7112 - mean_squared_error: 107283600.5933\n",
      "Epoch 63/100\n",
      "10196/10196 [==============================] - 2s 156us/step - loss: 4472.0554 - mean_squared_error: 107674628.7219\n"
     ]
    },
    {
     "name": "stdout",
     "output_type": "stream",
     "text": [
      "Epoch 64/100\n",
      "10196/10196 [==============================] - 2s 159us/step - loss: 4489.4700 - mean_squared_error: 106638809.4433\n",
      "Epoch 65/100\n",
      "10196/10196 [==============================] - 2s 163us/step - loss: 4444.2971 - mean_squared_error: 105208010.3444 0s - loss: 4448.4618 - mean_squared_error: 106086805\n",
      "Epoch 66/100\n",
      "10196/10196 [==============================] - 2s 189us/step - loss: 4449.3123 - mean_squared_error: 104823663.9490\n",
      "Epoch 67/100\n",
      "10196/10196 [==============================] - 2s 189us/step - loss: 4413.7587 - mean_squared_error: 103314190.3438\n",
      "Epoch 68/100\n",
      "10196/10196 [==============================] - 2s 171us/step - loss: 4412.6483 - mean_squared_error: 103546463.9338\n",
      "Epoch 69/100\n",
      "10196/10196 [==============================] - 2s 172us/step - loss: 4391.6017 - mean_squared_error: 103255048.1982\n",
      "Epoch 70/100\n",
      "10196/10196 [==============================] - 2s 171us/step - loss: 4382.9728 - mean_squared_error: 101454395.6738 0s - loss: 4420.7103 - mean_squared_error: 104448299.\n",
      "Epoch 71/100\n",
      "10196/10196 [==============================] - 2s 165us/step - loss: 4396.7609 - mean_squared_error: 101916131.5761\n",
      "Epoch 72/100\n",
      "10196/10196 [==============================] - 2s 160us/step - loss: 4364.1073 - mean_squared_error: 100036865.1894\n",
      "Epoch 73/100\n",
      "10196/10196 [==============================] - 2s 161us/step - loss: 4381.3201 - mean_squared_error: 99620029.6954\n",
      "Epoch 74/100\n",
      "10196/10196 [==============================] - 2s 163us/step - loss: 4361.6852 - mean_squared_error: 99717424.6864\n",
      "Epoch 75/100\n",
      "10196/10196 [==============================] - 2s 177us/step - loss: 4358.7908 - mean_squared_error: 99661562.77200s - loss: 4360.0720 - mean_squared_err\n",
      "Epoch 76/100\n",
      "10196/10196 [==============================] - 2s 174us/step - loss: 4340.9697 - mean_squared_error: 97490540.6422\n",
      "Epoch 77/100\n",
      "10196/10196 [==============================] - 2s 169us/step - loss: 4329.4768 - mean_squared_error: 95931679.6965\n",
      "Epoch 78/100\n",
      "10196/10196 [==============================] - 2s 174us/step - loss: 4293.8173 - mean_squared_error: 97172825.3725\n",
      "Epoch 79/100\n",
      "10196/10196 [==============================] - 2s 169us/step - loss: 4277.8404 - mean_squared_error: 95391732.8937\n",
      "Epoch 80/100\n",
      "10196/10196 [==============================] - 2s 167us/step - loss: 4292.9952 - mean_squared_error: 95143034.6347\n",
      "Epoch 81/100\n",
      "10196/10196 [==============================] - 2s 173us/step - loss: 4265.6527 - mean_squared_error: 94464170.2730\n",
      "Epoch 82/100\n",
      "10196/10196 [==============================] - 2s 173us/step - loss: 4245.4503 - mean_squared_error: 92611262.4730\n",
      "Epoch 83/100\n",
      "10196/10196 [==============================] - 2s 171us/step - loss: 4258.4849 - mean_squared_error: 92518481.4705\n",
      "Epoch 84/100\n",
      "10196/10196 [==============================] - 2s 174us/step - loss: 4240.5513 - mean_squared_error: 92269359.8147\n",
      "Epoch 85/100\n",
      "10196/10196 [==============================] - 2s 173us/step - loss: 4225.1761 - mean_squared_error: 91213130.8001\n",
      "Epoch 86/100\n",
      "10196/10196 [==============================] - 2s 169us/step - loss: 4208.4196 - mean_squared_error: 89982411.4499\n",
      "Epoch 87/100\n",
      "10196/10196 [==============================] - 2s 173us/step - loss: 4191.1540 - mean_squared_error: 89585647.5011\n",
      "Epoch 88/100\n",
      "10196/10196 [==============================] - 2s 169us/step - loss: 4205.5432 - mean_squared_error: 90207559.9833\n",
      "Epoch 89/100\n",
      "10196/10196 [==============================] - 2s 178us/step - loss: 4199.9279 - mean_squared_error: 89004265.4281\n",
      "Epoch 90/100\n",
      "10196/10196 [==============================] - 2s 175us/step - loss: 4199.5611 - mean_squared_error: 88921629.4375\n",
      "Epoch 91/100\n",
      "10196/10196 [==============================] - 2s 171us/step - loss: 4194.2821 - mean_squared_error: 88172384.1608\n",
      "Epoch 92/100\n",
      "10196/10196 [==============================] - 2s 184us/step - loss: 4166.6121 - mean_squared_error: 86623606.1126\n",
      "Epoch 93/100\n",
      "10196/10196 [==============================] - 2s 175us/step - loss: 4158.7494 - mean_squared_error: 87424092.0218\n",
      "Epoch 94/100\n",
      "10196/10196 [==============================] - 2s 180us/step - loss: 4139.9203 - mean_squared_error: 85669866.9981\n",
      "Epoch 95/100\n",
      "10196/10196 [==============================] - 2s 169us/step - loss: 4146.1764 - mean_squared_error: 86143638.2475\n",
      "Epoch 96/100\n",
      "10196/10196 [==============================] - 2s 175us/step - loss: 4143.1529 - mean_squared_error: 85187430.6592\n",
      "Epoch 97/100\n",
      "10196/10196 [==============================] - 2s 181us/step - loss: 4107.2668 - mean_squared_error: 83702715.9027\n",
      "Epoch 98/100\n",
      "10196/10196 [==============================] - 2s 170us/step - loss: 4128.1699 - mean_squared_error: 86446055.8106\n",
      "Epoch 99/100\n",
      "10196/10196 [==============================] - 2s 166us/step - loss: 4127.3767 - mean_squared_error: 83819758.6409\n",
      "Epoch 100/100\n",
      "10196/10196 [==============================] - 2s 173us/step - loss: 4106.3009 - mean_squared_error: 83605889.30170s - loss: 4102.5254 - mean_squared_error: 845\n"
     ]
    },
    {
     "data": {
      "text/plain": [
       "<tensorflow.python.keras.callbacks.History at 0x161ea29ee48>"
      ]
     },
     "execution_count": 59,
     "metadata": {},
     "output_type": "execute_result"
    }
   ],
   "source": [
    "model.fit(x_train,y_train,batch_size=25,epochs=100)\n",
    "#model.fit(x,y,batch_size=25,epochs=100)"
   ]
  },
  {
   "cell_type": "code",
   "execution_count": 43,
   "metadata": {},
   "outputs": [
    {
     "data": {
      "image/png": "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\n",
      "text/plain": [
       "<Figure size 432x288 with 1 Axes>"
      ]
     },
     "metadata": {},
     "output_type": "display_data"
    }
   ],
   "source": [
    "plt.plot(history.history['loss'])\n",
    "plt.title('Mean Absolute Error of the Model')\n",
    "plt.ylabel('Loss')\n",
    "plt.xlabel('Epoch')"
   ]
  },
  {
   "cell_type": "code",
   "execution_count": 60,
   "metadata": {},
   "outputs": [
    {
     "name": "stdout",
     "output_type": "stream",
     "text": [
      "2549/2549 [==============================] - 0s 103us/step\n"
     ]
    }
   ],
   "source": [
    "val_loss, val_msr = model.evaluate(x_test,y_test)"
   ]
  },
  {
   "cell_type": "code",
   "execution_count": 61,
   "metadata": {},
   "outputs": [
    {
     "name": "stdout",
     "output_type": "stream",
     "text": [
      "4464.097355503996 103778653.15653197\n"
     ]
    }
   ],
   "source": [
    "print(val_loss,val_msr)"
   ]
  },
  {
   "cell_type": "code",
   "execution_count": 62,
   "metadata": {},
   "outputs": [],
   "source": [
    "predictions = model.predict([x_test])"
   ]
  },
  {
   "cell_type": "code",
   "execution_count": 63,
   "metadata": {},
   "outputs": [
    {
     "data": {
      "text/plain": [
       "(2549, 1)"
      ]
     },
     "execution_count": 63,
     "metadata": {},
     "output_type": "execute_result"
    }
   ],
   "source": [
    "predictions.shape"
   ]
  },
  {
   "cell_type": "code",
   "execution_count": 64,
   "metadata": {},
   "outputs": [],
   "source": [
    "from sklearn.metrics import r2_score\n",
    "R2 = r2_score(y_test, predictions)"
   ]
  },
  {
   "cell_type": "code",
   "execution_count": 65,
   "metadata": {},
   "outputs": [
    {
     "data": {
      "text/plain": [
       "0.8474761462432921"
      ]
     },
     "execution_count": 65,
     "metadata": {},
     "output_type": "execute_result"
    }
   ],
   "source": [
    "R2"
   ]
  },
  {
   "cell_type": "code",
   "execution_count": 95,
   "metadata": {},
   "outputs": [
    {
     "data": {
      "text/plain": [
       "array([[ 3153.8457],\n",
       "       [22753.049 ],\n",
       "       [ 9626.049 ],\n",
       "       [ 2216.877 ],\n",
       "       [ 2714.7317],\n",
       "       [84993.05  ],\n",
       "       [ 5691.7915],\n",
       "       [ 2221.4353],\n",
       "       [ 7908.774 ],\n",
       "       [ 4354.364 ]], dtype=float32)"
      ]
     },
     "execution_count": 95,
     "metadata": {},
     "output_type": "execute_result"
    }
   ],
   "source": [
    "predictions[0:10]"
   ]
  },
  {
   "cell_type": "code",
   "execution_count": 96,
   "metadata": {},
   "outputs": [
    {
     "data": {
      "text/plain": [
       "array([ 2833, 27037,  4913,  1751,  2910, 70276,  8242,  1717, 14202,\n",
       "       25319], dtype=int64)"
      ]
     },
     "execution_count": 96,
     "metadata": {},
     "output_type": "execute_result"
    }
   ],
   "source": [
    "y_test[0:10]"
   ]
  },
  {
   "cell_type": "code",
   "execution_count": 28,
   "metadata": {},
   "outputs": [
    {
     "data": {
      "text/plain": [
       "array([2.52137150e-05, 5.04274299e-03, 9.32705744e-01, 1.37162609e-02,\n",
       "       1.11971388e-02, 1.39179707e-02, 3.57227914e-01, 2.01709720e-04,\n",
       "       6.05129159e-04, 6.05129159e-04, 1.49265193e-02, 3.91316856e-02,\n",
       "       1.26766801e-02, 0.00000000e+00, 0.00000000e+00])"
      ]
     },
     "execution_count": 28,
     "metadata": {},
     "output_type": "execute_result"
    }
   ],
   "source": [
    "x_test[9]"
   ]
  },
  {
   "cell_type": "code",
   "execution_count": 40,
   "metadata": {},
   "outputs": [
    {
     "name": "stderr",
     "output_type": "stream",
     "text": [
      "C:\\Users\\vedan\\Anaconda3\\lib\\site-packages\\ipykernel_launcher.py:4: FutureWarning: Method .as_matrix will be removed in a future version. Use .values instead.\n",
      "  after removing the cwd from sys.path.\n"
     ]
    }
   ],
   "source": [
    "df_test = pd.read_csv('FIFATestModel13.csv')\n",
    "ob = df_test['Ob']\n",
    "del df_test['Ob']\n",
    "x_test = df_test.as_matrix()\n",
    "x_test_NaNs = np.isnan(x_test)\n",
    "x_test[x_test_NaNs] = 0\n",
    "x_test = tf.keras.utils.normalize(x_test, axis=1)"
   ]
  },
  {
   "cell_type": "code",
   "execution_count": 41,
   "metadata": {},
   "outputs": [
    {
     "name": "stderr",
     "output_type": "stream",
     "text": [
      "C:\\Users\\vedan\\Anaconda3\\lib\\site-packages\\ipykernel_launcher.py:1: FutureWarning: Method .as_matrix will be removed in a future version. Use .values instead.\n",
      "  \"\"\"Entry point for launching an IPython kernel.\n"
     ]
    }
   ],
   "source": [
    "ob = ob.as_matrix()"
   ]
  },
  {
   "cell_type": "code",
   "execution_count": 44,
   "metadata": {},
   "outputs": [],
   "source": [
    "df = pd.DataFrame(columns=['Ob','WageNew'])\n",
    "for i in range(len(ob)):\n",
    "    ob[i] = ob[i]-12745\n",
    "df['Ob'] = ob\n",
    "df['WageNew'] = predictions\n",
    "df.to_csv('PlayerStats11.csv')"
   ]
  },
  {
   "cell_type": "code",
   "execution_count": 45,
   "metadata": {},
   "outputs": [
    {
     "data": {
      "text/html": [
       "<div>\n",
       "<style scoped>\n",
       "    .dataframe tbody tr th:only-of-type {\n",
       "        vertical-align: middle;\n",
       "    }\n",
       "\n",
       "    .dataframe tbody tr th {\n",
       "        vertical-align: top;\n",
       "    }\n",
       "\n",
       "    .dataframe thead th {\n",
       "        text-align: right;\n",
       "    }\n",
       "</style>\n",
       "<table border=\"1\" class=\"dataframe\">\n",
       "  <thead>\n",
       "    <tr style=\"text-align: right;\">\n",
       "      <th></th>\n",
       "      <th>Ob</th>\n",
       "      <th>WageNew</th>\n",
       "    </tr>\n",
       "  </thead>\n",
       "  <tbody>\n",
       "    <tr>\n",
       "      <th>0</th>\n",
       "      <td>1</td>\n",
       "      <td>2151.530518</td>\n",
       "    </tr>\n",
       "    <tr>\n",
       "      <th>1</th>\n",
       "      <td>2</td>\n",
       "      <td>2765.155518</td>\n",
       "    </tr>\n",
       "    <tr>\n",
       "      <th>2</th>\n",
       "      <td>3</td>\n",
       "      <td>1847.282593</td>\n",
       "    </tr>\n",
       "    <tr>\n",
       "      <th>3</th>\n",
       "      <td>4</td>\n",
       "      <td>9685.618164</td>\n",
       "    </tr>\n",
       "    <tr>\n",
       "      <th>4</th>\n",
       "      <td>5</td>\n",
       "      <td>24967.058594</td>\n",
       "    </tr>\n",
       "    <tr>\n",
       "      <th>5</th>\n",
       "      <td>6</td>\n",
       "      <td>565.764587</td>\n",
       "    </tr>\n",
       "    <tr>\n",
       "      <th>6</th>\n",
       "      <td>7</td>\n",
       "      <td>10167.006836</td>\n",
       "    </tr>\n",
       "    <tr>\n",
       "      <th>7</th>\n",
       "      <td>8</td>\n",
       "      <td>2129.435791</td>\n",
       "    </tr>\n",
       "    <tr>\n",
       "      <th>8</th>\n",
       "      <td>9</td>\n",
       "      <td>10119.045898</td>\n",
       "    </tr>\n",
       "    <tr>\n",
       "      <th>9</th>\n",
       "      <td>10</td>\n",
       "      <td>3191.297119</td>\n",
       "    </tr>\n",
       "    <tr>\n",
       "      <th>10</th>\n",
       "      <td>11</td>\n",
       "      <td>2305.689941</td>\n",
       "    </tr>\n",
       "    <tr>\n",
       "      <th>11</th>\n",
       "      <td>12</td>\n",
       "      <td>2861.769775</td>\n",
       "    </tr>\n",
       "    <tr>\n",
       "      <th>12</th>\n",
       "      <td>13</td>\n",
       "      <td>46222.554688</td>\n",
       "    </tr>\n",
       "    <tr>\n",
       "      <th>13</th>\n",
       "      <td>14</td>\n",
       "      <td>22453.666016</td>\n",
       "    </tr>\n",
       "    <tr>\n",
       "      <th>14</th>\n",
       "      <td>15</td>\n",
       "      <td>20225.798828</td>\n",
       "    </tr>\n",
       "    <tr>\n",
       "      <th>15</th>\n",
       "      <td>16</td>\n",
       "      <td>1648.686646</td>\n",
       "    </tr>\n",
       "    <tr>\n",
       "      <th>16</th>\n",
       "      <td>17</td>\n",
       "      <td>10093.389648</td>\n",
       "    </tr>\n",
       "    <tr>\n",
       "      <th>17</th>\n",
       "      <td>18</td>\n",
       "      <td>6666.597168</td>\n",
       "    </tr>\n",
       "    <tr>\n",
       "      <th>18</th>\n",
       "      <td>19</td>\n",
       "      <td>12769.013672</td>\n",
       "    </tr>\n",
       "    <tr>\n",
       "      <th>19</th>\n",
       "      <td>20</td>\n",
       "      <td>2166.539551</td>\n",
       "    </tr>\n",
       "    <tr>\n",
       "      <th>20</th>\n",
       "      <td>21</td>\n",
       "      <td>3778.852783</td>\n",
       "    </tr>\n",
       "    <tr>\n",
       "      <th>21</th>\n",
       "      <td>22</td>\n",
       "      <td>3253.713623</td>\n",
       "    </tr>\n",
       "    <tr>\n",
       "      <th>22</th>\n",
       "      <td>23</td>\n",
       "      <td>2982.128174</td>\n",
       "    </tr>\n",
       "    <tr>\n",
       "      <th>23</th>\n",
       "      <td>24</td>\n",
       "      <td>2991.536621</td>\n",
       "    </tr>\n",
       "    <tr>\n",
       "      <th>24</th>\n",
       "      <td>25</td>\n",
       "      <td>5951.741699</td>\n",
       "    </tr>\n",
       "    <tr>\n",
       "      <th>25</th>\n",
       "      <td>26</td>\n",
       "      <td>16509.208984</td>\n",
       "    </tr>\n",
       "    <tr>\n",
       "      <th>26</th>\n",
       "      <td>27</td>\n",
       "      <td>1802.203369</td>\n",
       "    </tr>\n",
       "    <tr>\n",
       "      <th>27</th>\n",
       "      <td>28</td>\n",
       "      <td>15707.564453</td>\n",
       "    </tr>\n",
       "    <tr>\n",
       "      <th>28</th>\n",
       "      <td>29</td>\n",
       "      <td>7363.238770</td>\n",
       "    </tr>\n",
       "    <tr>\n",
       "      <th>29</th>\n",
       "      <td>30</td>\n",
       "      <td>7496.178711</td>\n",
       "    </tr>\n",
       "    <tr>\n",
       "      <th>...</th>\n",
       "      <td>...</td>\n",
       "      <td>...</td>\n",
       "    </tr>\n",
       "    <tr>\n",
       "      <th>5432</th>\n",
       "      <td>5433</td>\n",
       "      <td>16108.635742</td>\n",
       "    </tr>\n",
       "    <tr>\n",
       "      <th>5433</th>\n",
       "      <td>5434</td>\n",
       "      <td>3846.993408</td>\n",
       "    </tr>\n",
       "    <tr>\n",
       "      <th>5434</th>\n",
       "      <td>5435</td>\n",
       "      <td>3128.378174</td>\n",
       "    </tr>\n",
       "    <tr>\n",
       "      <th>5435</th>\n",
       "      <td>5436</td>\n",
       "      <td>2427.759766</td>\n",
       "    </tr>\n",
       "    <tr>\n",
       "      <th>5436</th>\n",
       "      <td>5437</td>\n",
       "      <td>2919.127197</td>\n",
       "    </tr>\n",
       "    <tr>\n",
       "      <th>5437</th>\n",
       "      <td>5438</td>\n",
       "      <td>3355.281494</td>\n",
       "    </tr>\n",
       "    <tr>\n",
       "      <th>5438</th>\n",
       "      <td>5439</td>\n",
       "      <td>88080.906250</td>\n",
       "    </tr>\n",
       "    <tr>\n",
       "      <th>5439</th>\n",
       "      <td>5440</td>\n",
       "      <td>2282.662109</td>\n",
       "    </tr>\n",
       "    <tr>\n",
       "      <th>5440</th>\n",
       "      <td>5441</td>\n",
       "      <td>3976.263428</td>\n",
       "    </tr>\n",
       "    <tr>\n",
       "      <th>5441</th>\n",
       "      <td>5442</td>\n",
       "      <td>13664.819336</td>\n",
       "    </tr>\n",
       "    <tr>\n",
       "      <th>5442</th>\n",
       "      <td>5443</td>\n",
       "      <td>3032.310547</td>\n",
       "    </tr>\n",
       "    <tr>\n",
       "      <th>5443</th>\n",
       "      <td>5444</td>\n",
       "      <td>12073.040039</td>\n",
       "    </tr>\n",
       "    <tr>\n",
       "      <th>5444</th>\n",
       "      <td>5445</td>\n",
       "      <td>10563.211914</td>\n",
       "    </tr>\n",
       "    <tr>\n",
       "      <th>5445</th>\n",
       "      <td>5446</td>\n",
       "      <td>9905.289062</td>\n",
       "    </tr>\n",
       "    <tr>\n",
       "      <th>5446</th>\n",
       "      <td>5447</td>\n",
       "      <td>36110.398438</td>\n",
       "    </tr>\n",
       "    <tr>\n",
       "      <th>5447</th>\n",
       "      <td>5448</td>\n",
       "      <td>2195.146729</td>\n",
       "    </tr>\n",
       "    <tr>\n",
       "      <th>5448</th>\n",
       "      <td>5449</td>\n",
       "      <td>1917.435059</td>\n",
       "    </tr>\n",
       "    <tr>\n",
       "      <th>5449</th>\n",
       "      <td>5450</td>\n",
       "      <td>6029.598633</td>\n",
       "    </tr>\n",
       "    <tr>\n",
       "      <th>5450</th>\n",
       "      <td>5451</td>\n",
       "      <td>3290.161865</td>\n",
       "    </tr>\n",
       "    <tr>\n",
       "      <th>5451</th>\n",
       "      <td>5452</td>\n",
       "      <td>1820.114624</td>\n",
       "    </tr>\n",
       "    <tr>\n",
       "      <th>5452</th>\n",
       "      <td>5453</td>\n",
       "      <td>3118.677002</td>\n",
       "    </tr>\n",
       "    <tr>\n",
       "      <th>5453</th>\n",
       "      <td>5454</td>\n",
       "      <td>1603.388794</td>\n",
       "    </tr>\n",
       "    <tr>\n",
       "      <th>5454</th>\n",
       "      <td>5455</td>\n",
       "      <td>52305.273438</td>\n",
       "    </tr>\n",
       "    <tr>\n",
       "      <th>5455</th>\n",
       "      <td>5456</td>\n",
       "      <td>5918.671875</td>\n",
       "    </tr>\n",
       "    <tr>\n",
       "      <th>5456</th>\n",
       "      <td>5457</td>\n",
       "      <td>3579.847900</td>\n",
       "    </tr>\n",
       "    <tr>\n",
       "      <th>5457</th>\n",
       "      <td>5458</td>\n",
       "      <td>3540.945557</td>\n",
       "    </tr>\n",
       "    <tr>\n",
       "      <th>5458</th>\n",
       "      <td>5459</td>\n",
       "      <td>2783.564453</td>\n",
       "    </tr>\n",
       "    <tr>\n",
       "      <th>5459</th>\n",
       "      <td>5460</td>\n",
       "      <td>2527.854492</td>\n",
       "    </tr>\n",
       "    <tr>\n",
       "      <th>5460</th>\n",
       "      <td>5461</td>\n",
       "      <td>2534.364502</td>\n",
       "    </tr>\n",
       "    <tr>\n",
       "      <th>5461</th>\n",
       "      <td>5462</td>\n",
       "      <td>10893.754883</td>\n",
       "    </tr>\n",
       "  </tbody>\n",
       "</table>\n",
       "<p>5462 rows × 2 columns</p>\n",
       "</div>"
      ],
      "text/plain": [
       "        Ob       WageNew\n",
       "0        1   2151.530518\n",
       "1        2   2765.155518\n",
       "2        3   1847.282593\n",
       "3        4   9685.618164\n",
       "4        5  24967.058594\n",
       "5        6    565.764587\n",
       "6        7  10167.006836\n",
       "7        8   2129.435791\n",
       "8        9  10119.045898\n",
       "9       10   3191.297119\n",
       "10      11   2305.689941\n",
       "11      12   2861.769775\n",
       "12      13  46222.554688\n",
       "13      14  22453.666016\n",
       "14      15  20225.798828\n",
       "15      16   1648.686646\n",
       "16      17  10093.389648\n",
       "17      18   6666.597168\n",
       "18      19  12769.013672\n",
       "19      20   2166.539551\n",
       "20      21   3778.852783\n",
       "21      22   3253.713623\n",
       "22      23   2982.128174\n",
       "23      24   2991.536621\n",
       "24      25   5951.741699\n",
       "25      26  16509.208984\n",
       "26      27   1802.203369\n",
       "27      28  15707.564453\n",
       "28      29   7363.238770\n",
       "29      30   7496.178711\n",
       "...    ...           ...\n",
       "5432  5433  16108.635742\n",
       "5433  5434   3846.993408\n",
       "5434  5435   3128.378174\n",
       "5435  5436   2427.759766\n",
       "5436  5437   2919.127197\n",
       "5437  5438   3355.281494\n",
       "5438  5439  88080.906250\n",
       "5439  5440   2282.662109\n",
       "5440  5441   3976.263428\n",
       "5441  5442  13664.819336\n",
       "5442  5443   3032.310547\n",
       "5443  5444  12073.040039\n",
       "5444  5445  10563.211914\n",
       "5445  5446   9905.289062\n",
       "5446  5447  36110.398438\n",
       "5447  5448   2195.146729\n",
       "5448  5449   1917.435059\n",
       "5449  5450   6029.598633\n",
       "5450  5451   3290.161865\n",
       "5451  5452   1820.114624\n",
       "5452  5453   3118.677002\n",
       "5453  5454   1603.388794\n",
       "5454  5455  52305.273438\n",
       "5455  5456   5918.671875\n",
       "5456  5457   3579.847900\n",
       "5457  5458   3540.945557\n",
       "5458  5459   2783.564453\n",
       "5459  5460   2527.854492\n",
       "5460  5461   2534.364502\n",
       "5461  5462  10893.754883\n",
       "\n",
       "[5462 rows x 2 columns]"
      ]
     },
     "execution_count": 45,
     "metadata": {},
     "output_type": "execute_result"
    }
   ],
   "source": [
    "df"
   ]
  },
  {
   "cell_type": "code",
   "execution_count": 247,
   "metadata": {},
   "outputs": [],
   "source": [
    "df1 = pd.DataFrame(x_test)"
   ]
  },
  {
   "cell_type": "code",
   "execution_count": 250,
   "metadata": {},
   "outputs": [],
   "source": [
    "df1['WageNew'] = y_test\n",
    "df1['Predictions'] = predictions"
   ]
  },
  {
   "cell_type": "code",
   "execution_count": 251,
   "metadata": {},
   "outputs": [],
   "source": [
    "df1.to_csv('Predictions.csv')"
   ]
  },
  {
   "cell_type": "code",
   "execution_count": null,
   "metadata": {},
   "outputs": [],
   "source": []
  }
 ],
 "metadata": {
  "kernelspec": {
   "display_name": "Python 3",
   "language": "python",
   "name": "python3"
  },
  "language_info": {
   "codemirror_mode": {
    "name": "ipython",
    "version": 3
   },
   "file_extension": ".py",
   "mimetype": "text/x-python",
   "name": "python",
   "nbconvert_exporter": "python",
   "pygments_lexer": "ipython3",
   "version": "3.8.3"
  }
 },
 "nbformat": 4,
 "nbformat_minor": 2
}
